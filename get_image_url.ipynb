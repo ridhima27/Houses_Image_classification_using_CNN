{
 "cells": [
  {
   "cell_type": "code",
   "execution_count": 19,
   "metadata": {},
   "outputs": [],
   "source": [
    "import requests"
   ]
  },
  {
   "cell_type": "code",
   "execution_count": 20,
   "metadata": {},
   "outputs": [],
   "source": [
    "def get_url_images_in_text(html, protocol):\n",
    "    urls = []\n",
    "    all_urls = re.findall(r'((http\\:|https\\:)?\\/\\/[^\"\\' ]*?\\.(png|jpg))', html)\n",
    "    for url in all_urls:\n",
    "        if not url[0].startswith(\"http\"):\n",
    "            urls.append(protocol + url[0])\n",
    "        else:\n",
    "            urls.append(url[0])\n",
    "\n",
    "    return urls\n"
   ]
  },
  {
   "cell_type": "code",
   "execution_count": 21,
   "metadata": {},
   "outputs": [],
   "source": [
    "def get_images_from_url(url):\n",
    "    protocol = url.split('/')[0]\n",
    "    resp = requests.get(url)\n",
    "    return get_url_images_in_text(resp.text, protocol)"
   ]
  },
  {
   "cell_type": "code",
   "execution_count": 22,
   "metadata": {},
   "outputs": [
    {
     "ename": "NameError",
     "evalue": "name 're' is not defined",
     "output_type": "error",
     "traceback": [
      "\u001b[0;31m---------------------------------------------------------------------------\u001b[0m",
      "\u001b[0;31mNameError\u001b[0m                                 Traceback (most recent call last)",
      "\u001b[0;32m<ipython-input-22-8df5c051b61a>\u001b[0m in \u001b[0;36m<module>\u001b[0;34m\u001b[0m\n\u001b[0;32m----> 1\u001b[0;31m \u001b[0mget_images_from_url\u001b[0m\u001b[0;34m(\u001b[0m\u001b[0;34m\"https://mediacdn.99acres.com/media1\"\u001b[0m\u001b[0;34m)\u001b[0m\u001b[0;34m\u001b[0m\u001b[0;34m\u001b[0m\u001b[0m\n\u001b[0m",
      "\u001b[0;32m<ipython-input-21-8a199faebd3b>\u001b[0m in \u001b[0;36mget_images_from_url\u001b[0;34m(url)\u001b[0m\n\u001b[1;32m      2\u001b[0m     \u001b[0mprotocol\u001b[0m \u001b[0;34m=\u001b[0m \u001b[0murl\u001b[0m\u001b[0;34m.\u001b[0m\u001b[0msplit\u001b[0m\u001b[0;34m(\u001b[0m\u001b[0;34m'/'\u001b[0m\u001b[0;34m)\u001b[0m\u001b[0;34m[\u001b[0m\u001b[0;36m0\u001b[0m\u001b[0;34m]\u001b[0m\u001b[0;34m\u001b[0m\u001b[0;34m\u001b[0m\u001b[0m\n\u001b[1;32m      3\u001b[0m     \u001b[0mresp\u001b[0m \u001b[0;34m=\u001b[0m \u001b[0mrequests\u001b[0m\u001b[0;34m.\u001b[0m\u001b[0mget\u001b[0m\u001b[0;34m(\u001b[0m\u001b[0murl\u001b[0m\u001b[0;34m)\u001b[0m\u001b[0;34m\u001b[0m\u001b[0;34m\u001b[0m\u001b[0m\n\u001b[0;32m----> 4\u001b[0;31m     \u001b[0;32mreturn\u001b[0m \u001b[0mget_url_images_in_text\u001b[0m\u001b[0;34m(\u001b[0m\u001b[0mresp\u001b[0m\u001b[0;34m.\u001b[0m\u001b[0mtext\u001b[0m\u001b[0;34m,\u001b[0m \u001b[0mprotocol\u001b[0m\u001b[0;34m)\u001b[0m\u001b[0;34m\u001b[0m\u001b[0;34m\u001b[0m\u001b[0m\n\u001b[0m",
      "\u001b[0;32m<ipython-input-20-2b6262170cfb>\u001b[0m in \u001b[0;36mget_url_images_in_text\u001b[0;34m(html, protocol)\u001b[0m\n\u001b[1;32m      1\u001b[0m \u001b[0;32mdef\u001b[0m \u001b[0mget_url_images_in_text\u001b[0m\u001b[0;34m(\u001b[0m\u001b[0mhtml\u001b[0m\u001b[0;34m,\u001b[0m \u001b[0mprotocol\u001b[0m\u001b[0;34m)\u001b[0m\u001b[0;34m:\u001b[0m\u001b[0;34m\u001b[0m\u001b[0;34m\u001b[0m\u001b[0m\n\u001b[1;32m      2\u001b[0m     \u001b[0murls\u001b[0m \u001b[0;34m=\u001b[0m \u001b[0;34m[\u001b[0m\u001b[0;34m]\u001b[0m\u001b[0;34m\u001b[0m\u001b[0;34m\u001b[0m\u001b[0m\n\u001b[0;32m----> 3\u001b[0;31m     \u001b[0mall_urls\u001b[0m \u001b[0;34m=\u001b[0m \u001b[0mre\u001b[0m\u001b[0;34m.\u001b[0m\u001b[0mfindall\u001b[0m\u001b[0;34m(\u001b[0m\u001b[0;34mr'((http\\:|https\\:)?\\/\\/[^\"\\' ]*?\\.(png|jpg))'\u001b[0m\u001b[0;34m,\u001b[0m \u001b[0mhtml\u001b[0m\u001b[0;34m)\u001b[0m\u001b[0;34m\u001b[0m\u001b[0;34m\u001b[0m\u001b[0m\n\u001b[0m\u001b[1;32m      4\u001b[0m     \u001b[0;32mfor\u001b[0m \u001b[0murl\u001b[0m \u001b[0;32min\u001b[0m \u001b[0mall_urls\u001b[0m\u001b[0;34m:\u001b[0m\u001b[0;34m\u001b[0m\u001b[0;34m\u001b[0m\u001b[0m\n\u001b[1;32m      5\u001b[0m         \u001b[0;32mif\u001b[0m \u001b[0;32mnot\u001b[0m \u001b[0murl\u001b[0m\u001b[0;34m[\u001b[0m\u001b[0;36m0\u001b[0m\u001b[0;34m]\u001b[0m\u001b[0;34m.\u001b[0m\u001b[0mstartswith\u001b[0m\u001b[0;34m(\u001b[0m\u001b[0;34m\"http\"\u001b[0m\u001b[0;34m)\u001b[0m\u001b[0;34m:\u001b[0m\u001b[0;34m\u001b[0m\u001b[0;34m\u001b[0m\u001b[0m\n",
      "\u001b[0;31mNameError\u001b[0m: name 're' is not defined"
     ]
    }
   ],
   "source": [
    "get_images_from_url(\"https://mediacdn.99acres.com/media1\")"
   ]
  },
  {
   "cell_type": "code",
   "execution_count": 6,
   "metadata": {},
   "outputs": [],
   "source": [
    "import PIL\n",
    "from PIL import Image"
   ]
  },
  {
   "cell_type": "code",
   "execution_count": 51,
   "metadata": {},
   "outputs": [],
   "source": [
    "def resize_image(im,new_dim,quality_val,filename):\n",
    "        cur_width, cur_height = im.size\n",
    "         \n",
    "        im = im.resize(new_dim, Image.ANTIALIAS)\n",
    "        im.save(filename, 'JPEG', quality=quality_val)\n"
   ]
  },
  {
   "cell_type": "code",
   "execution_count": 30,
   "metadata": {},
   "outputs": [
    {
     "name": "stdout",
     "output_type": "stream",
     "text": [
      "(800, 533)\n"
     ]
    }
   ],
   "source": [
    "image =Image.open(\"/home/shekhar/projects/MachineLearning/testing_resize/b1.jpg\")\n",
    "print(image.size)"
   ]
  },
  {
   "cell_type": "code",
   "execution_count": 53,
   "metadata": {},
   "outputs": [
    {
     "name": "stdout",
     "output_type": "stream",
     "text": [
      "(64, 64)\n"
     ]
    }
   ],
   "source": [
    "\n",
    "filename = \"/home/shekhar/projects/MachineLearning/testing_resize/a1_com.jpg\"\n",
    "new_dim = (64,64)\n",
    "resize_image(image,new_dim,80,filename)\n",
    "\n",
    "image =Image.open(filename)\n",
    "print(image.size)\n",
    "#image.show()\n"
   ]
  },
  {
   "cell_type": "code",
   "execution_count": 54,
   "metadata": {},
   "outputs": [],
   "source": [
    "import glob\n"
   ]
  },
  {
   "cell_type": "code",
   "execution_count": 55,
   "metadata": {},
   "outputs": [],
   "source": [
    "p=glob.glob(\"/home/shekhar/projects/MachineLearning/dataset/exterior_classification/mansion/*\")"
   ]
  },
  {
   "cell_type": "code",
   "execution_count": 56,
   "metadata": {},
   "outputs": [],
   "source": [
    "#print(p)\n"
   ]
  },
  {
   "cell_type": "code",
   "execution_count": 60,
   "metadata": {},
   "outputs": [
    {
     "name": "stdout",
     "output_type": "stream",
     "text": [
      "/home/shekhar/projects/MachineLearning/dataset/exterior_classification/mansion_compressed_64/trollinho-BnW3Jby8T1M-unsplash.jpg\n",
      "/home/shekhar/projects/MachineLearning/dataset/exterior_classification/mansion_compressed_64/P60517259.default.57709.jpg\n",
      "/home/shekhar/projects/MachineLearning/dataset/exterior_classification/mansion_compressed_64/ludovic-charlet-sIYfnoeAt6c-unsplash.jpg\n",
      "/home/shekhar/projects/MachineLearning/dataset/exterior_classification/mansion_compressed_64/monica-dahiya--kRTcWBSrV4-unsplash.jpg\n",
      "/home/shekhar/projects/MachineLearning/dataset/exterior_classification/mansion_compressed_64/arno-senoner-oFRxt6gPGZM-unsplash.jpg\n",
      "/home/shekhar/projects/MachineLearning/dataset/exterior_classification/mansion_compressed_64/youssef-ahmed-1uLK-LUFTlg-unsplash.jpg\n",
      "/home/shekhar/projects/MachineLearning/dataset/exterior_classification/mansion_compressed_64/mark-leishman-9KVs6HBeQwI-unsplash.jpg\n",
      "/home/shekhar/projects/MachineLearning/dataset/exterior_classification/mansion_compressed_64/annie-spratt-pz_u-UzYXhQ-unsplash.jpg\n",
      "/home/shekhar/projects/MachineLearning/dataset/exterior_classification/mansion_compressed_64/nomadic-julien-DDu4aADRxrA-unsplash.jpg\n",
      "/home/shekhar/projects/MachineLearning/dataset/exterior_classification/mansion_compressed_64/dorian-mongel-Yui3DZiX7yM-unsplash.jpg\n",
      "/home/shekhar/projects/MachineLearning/dataset/exterior_classification/mansion_compressed_64/robert-profunser-hyv4iNfI2xk-unsplash.jpg\n",
      "/home/shekhar/projects/MachineLearning/dataset/exterior_classification/mansion_compressed_64/chris-an-j7Ei9s2nDDs-unsplash.jpg\n",
      "/home/shekhar/projects/MachineLearning/dataset/exterior_classification/mansion_compressed_64/ferdinand-stohr-fC-CX8dFuzE-unsplash.jpg\n",
      "/home/shekhar/projects/MachineLearning/dataset/exterior_classification/mansion_compressed_64/jospher-nadar-sX1q2AHkv70-unsplash.jpg\n",
      "/home/shekhar/projects/MachineLearning/dataset/exterior_classification/mansion_compressed_64/claudio-schwarz-purzlbaum-foWH-IdwzWc-unsplash.jpg\n",
      "/home/shekhar/projects/MachineLearning/dataset/exterior_classification/mansion_compressed_64/haidong-wang-s7dqT9PtfsE-unsplash.jpg\n",
      "/home/shekhar/projects/MachineLearning/dataset/exterior_classification/mansion_compressed_64/jessica-furtney-YOoucEImrKw-unsplash.jpg\n",
      "/home/shekhar/projects/MachineLearning/dataset/exterior_classification/mansion_compressed_64/nick-romanov-lo4Vqysx7Hc-unsplash.jpg\n",
      "/home/shekhar/projects/MachineLearning/dataset/exterior_classification/mansion_compressed_64/lily-banse-uw4O0cd4LUU-unsplash.jpg\n",
      "/home/shekhar/projects/MachineLearning/dataset/exterior_classification/mansion_compressed_64/yanny-mishchuk-aV7prtn03Sw-unsplash.jpg\n",
      "/home/shekhar/projects/MachineLearning/dataset/exterior_classification/mansion_compressed_64/gautam-arora-gUFQybn_CVg-unsplash.jpg\n",
      "/home/shekhar/projects/MachineLearning/dataset/exterior_classification/mansion_compressed_64/walter-sturn--_folCc8Q8k-unsplash.jpg\n",
      "/home/shekhar/projects/MachineLearning/dataset/exterior_classification/mansion_compressed_64/vernon-raineil-cenzon-cJ8XCFz2c20-unsplash.jpg\n",
      "/home/shekhar/projects/MachineLearning/dataset/exterior_classification/mansion_compressed_64/marjanblan-ickaHqREhfc-unsplash.jpg\n",
      "/home/shekhar/projects/MachineLearning/dataset/exterior_classification/mansion_compressed_64/eric-krull-3kn3iTcSa5g-unsplash.jpg\n",
      "/home/shekhar/projects/MachineLearning/dataset/exterior_classification/mansion_compressed_64/megan-markham-1AqfK7Mr4Ww-unsplash.jpg\n",
      "/home/shekhar/projects/MachineLearning/dataset/exterior_classification/mansion_compressed_64/noyan-ekin-2jqpBT50GmI-unsplash.jpg\n",
      "/home/shekhar/projects/MachineLearning/dataset/exterior_classification/mansion_compressed_64/victor-malyushev-jDQ7goYMKgc-unsplash.jpg\n",
      "/home/shekhar/projects/MachineLearning/dataset/exterior_classification/mansion_compressed_64/andrea-lagareiro-rzAorUpflFE-unsplash.jpg\n",
      "/home/shekhar/projects/MachineLearning/dataset/exterior_classification/mansion_compressed_64/reiseuhu-sq9eE-lwk4M-unsplash.jpg\n",
      "/home/shekhar/projects/MachineLearning/dataset/exterior_classification/mansion_compressed_64/kayle-kaupanger-G-LO0Lf7jV4-unsplash.jpg\n",
      "/home/shekhar/projects/MachineLearning/dataset/exterior_classification/mansion_compressed_64/jared-rice-AhiUnolb7cg-unsplash.jpg\n",
      "/home/shekhar/projects/MachineLearning/dataset/exterior_classification/mansion_compressed_64/jared-rice-AhiUnolb7cg-unsplash (1).jpg\n",
      "/home/shekhar/projects/MachineLearning/dataset/exterior_classification/mansion_compressed_64/ksenia-balandina-RCF5KSWb7Ms-unsplash.jpg\n",
      "/home/shekhar/projects/MachineLearning/dataset/exterior_classification/mansion_compressed_64/austin-kehmeier-GvXmodAJU2s-unsplash.jpg\n",
      "/home/shekhar/projects/MachineLearning/dataset/exterior_classification/mansion_compressed_64/annie-spratt-oxuxlyvEs9A-unsplash.jpg\n",
      "/home/shekhar/projects/MachineLearning/dataset/exterior_classification/mansion_compressed_64/sufiya-sarfaraz-4lizvvbTjTM-unsplash.jpg\n",
      "/home/shekhar/projects/MachineLearning/dataset/exterior_classification/mansion_compressed_64/canalhermi-xlnTu6BV4x0-unsplash.jpg\n",
      "/home/shekhar/projects/MachineLearning/dataset/exterior_classification/mansion_compressed_64/brandy-willetts-EU9xLGfZQWI-unsplash.jpg\n",
      "/home/shekhar/projects/MachineLearning/dataset/exterior_classification/mansion_compressed_64/valentin-q_vx27Wj9dM-unsplash.jpg\n",
      "/home/shekhar/projects/MachineLearning/dataset/exterior_classification/mansion_compressed_64/dorian-mongel-A5WBQbxa03Q-unsplash.jpg\n",
      "/home/shekhar/projects/MachineLearning/dataset/exterior_classification/mansion_compressed_64/macau-photo-agency-r66jE2EtfBo-unsplash.jpg\n",
      "/home/shekhar/projects/MachineLearning/dataset/exterior_classification/mansion_compressed_64/prijun-koirala-aUKJG9l-wks-unsplash.jpg\n",
      "/home/shekhar/projects/MachineLearning/dataset/exterior_classification/mansion_compressed_64/fran-hogan-aK-s-1PKBVM-unsplash.jpg\n",
      "/home/shekhar/projects/MachineLearning/dataset/exterior_classification/mansion_compressed_64/kirti-kalla-y5TwD3jsQIc-unsplash.jpg\n",
      "/home/shekhar/projects/MachineLearning/dataset/exterior_classification/mansion_compressed_64/joan-oger-PWrNP4bQHB4-unsplash.jpg\n",
      "/home/shekhar/projects/MachineLearning/dataset/exterior_classification/mansion_compressed_64/simone-hutsch-ZWvdqqJgvfQ-unsplash.jpg\n",
      "/home/shekhar/projects/MachineLearning/dataset/exterior_classification/mansion_compressed_64/hitesh-choudhary-Eb9M7gxtAM4-unsplash.jpg\n",
      "/home/shekhar/projects/MachineLearning/dataset/exterior_classification/mansion_compressed_64/charles-adrien-fournier-NW3NOy1R1k4-unsplash.jpg\n",
      "/home/shekhar/projects/MachineLearning/dataset/exterior_classification/mansion_compressed_64/zoltan-tasi-3Ky6TAzdKqU-unsplash.jpg\n",
      "/home/shekhar/projects/MachineLearning/dataset/exterior_classification/mansion_compressed_64/nomadic-julien-ysJiuBQ8-3E-unsplash.jpg\n",
      "/home/shekhar/projects/MachineLearning/dataset/exterior_classification/mansion_compressed_64/fredrik-ohlander-y3crP40FJ7U-unsplash.jpg\n",
      "/home/shekhar/projects/MachineLearning/dataset/exterior_classification/mansion_compressed_64/clark-van-der-beken-_E226L6M8rI-unsplash.jpg\n",
      "/home/shekhar/projects/MachineLearning/dataset/exterior_classification/mansion_compressed_64/mostafa-meraji-BLAXP397L7A-unsplash.jpg\n",
      "/home/shekhar/projects/MachineLearning/dataset/exterior_classification/mansion_compressed_64/kate-gu-nLvr5_OAxPw-unsplash.jpg\n",
      "/home/shekhar/projects/MachineLearning/dataset/exterior_classification/mansion_compressed_64/daniel-barnes-RKdLlTyjm5g-unsplash.jpg\n",
      "/home/shekhar/projects/MachineLearning/dataset/exterior_classification/mansion_compressed_64/roger-starnes-sr-SQCK7jgW6xw-unsplash.jpg\n",
      "/home/shekhar/projects/MachineLearning/dataset/exterior_classification/mansion_compressed_64/Site-Photos-13-Tharwani-meghna-montana-Thane-5086608_533_800_310_462.jpg\n",
      "/home/shekhar/projects/MachineLearning/dataset/exterior_classification/mansion_compressed_64/vadim-sherbakov-d6ebY-faOO0-unsplash.jpg\n",
      "/home/shekhar/projects/MachineLearning/dataset/exterior_classification/mansion_compressed_64/webaliser-_TPTXZd9mOo-unsplash.jpg\n",
      "/home/shekhar/projects/MachineLearning/dataset/exterior_classification/mansion_compressed_64/jutta-kamp-tSvjMRPkMsA-unsplash.jpg\n",
      "/home/shekhar/projects/MachineLearning/dataset/exterior_classification/mansion_compressed_64/kaitlin-thomas-2KkbdN1U1oE-unsplash.jpg\n"
     ]
    },
    {
     "name": "stdout",
     "output_type": "stream",
     "text": [
      "/home/shekhar/projects/MachineLearning/dataset/exterior_classification/mansion_compressed_64/annie-spratt-mqAxJbuoPMI-unsplash.jpg\n",
      "/home/shekhar/projects/MachineLearning/dataset/exterior_classification/mansion_compressed_64/sheraz-shaikh-j4ja3Omqhts-unsplash.jpg\n",
      "/home/shekhar/projects/MachineLearning/dataset/exterior_classification/mansion_compressed_64/meric-dagli-rvegUP-pNYU-unsplash.jpg\n",
      "/home/shekhar/projects/MachineLearning/dataset/exterior_classification/mansion_compressed_64/viktor-forgacs-Abs9Rz45aE8-unsplash.jpg\n",
      "/home/shekhar/projects/MachineLearning/dataset/exterior_classification/mansion_compressed_64/philip-kock-q9xWLLlmf1w-unsplash.jpg\n",
      "/home/shekhar/projects/MachineLearning/dataset/exterior_classification/mansion_compressed_64/ved-SRAUI9X4Ep8-unsplash.jpg\n",
      "/home/shekhar/projects/MachineLearning/dataset/exterior_classification/mansion_compressed_64/lasma-artmane-aEhqZCHOtj4-unsplash.jpg\n",
      "/home/shekhar/projects/MachineLearning/dataset/exterior_classification/mansion_compressed_64/kirti-kalla-JRhvllDBhzs-unsplash.jpg\n",
      "/home/shekhar/projects/MachineLearning/dataset/exterior_classification/mansion_compressed_64/irene-rego-4I2gvtDOhrc-unsplash.jpg\n",
      "/home/shekhar/projects/MachineLearning/dataset/exterior_classification/mansion_compressed_64/ricardo-gomez-angel-dWeUYhBW-xw-unsplash.jpg\n",
      "/home/shekhar/projects/MachineLearning/dataset/exterior_classification/mansion_compressed_64/david-sam-levinson-I3JPit72W_Q-unsplash.jpg\n",
      "/home/shekhar/projects/MachineLearning/dataset/exterior_classification/mansion_compressed_64/spencer-davis-SyObBgxii-E-unsplash.jpg\n",
      "/home/shekhar/projects/MachineLearning/dataset/exterior_classification/mansion_compressed_64/jakob-ibrom-rofOFXw-9Jg-unsplash.jpg\n",
      "/home/shekhar/projects/MachineLearning/dataset/exterior_classification/mansion_compressed_64/george-kourounis-0Ul-ilrJrB8-unsplash.jpg\n",
      "/home/shekhar/projects/MachineLearning/dataset/exterior_classification/mansion_compressed_64/jonathan-ricci-vs-tu3Pw6Go-unsplash.jpg\n",
      "/home/shekhar/projects/MachineLearning/dataset/exterior_classification/mansion_compressed_64/kyle-mills-9AfzTdwrSbc-unsplash.jpg\n",
      "/home/shekhar/projects/MachineLearning/dataset/exterior_classification/mansion_compressed_64/sixties-photography-JIgHCjldW9I-unsplash.jpg\n",
      "/home/shekhar/projects/MachineLearning/dataset/exterior_classification/mansion_compressed_64/caleb-stokes-xEQLO9EGu64-unsplash.jpg\n",
      "/home/shekhar/projects/MachineLearning/dataset/exterior_classification/mansion_compressed_64/kurt-cotoaga-fkCcgQkqRaA-unsplash.jpg\n",
      "/home/shekhar/projects/MachineLearning/dataset/exterior_classification/mansion_compressed_64/michael-hart-6MEFywZS0Xc-unsplash.jpg\n",
      "/home/shekhar/projects/MachineLearning/dataset/exterior_classification/mansion_compressed_64/amanda-yeung-8sJsmUFiruo-unsplash.jpg\n",
      "/home/shekhar/projects/MachineLearning/dataset/exterior_classification/mansion_compressed_64/edan-cohen-w0mWWsfvDGY-unsplash.jpg\n",
      "/home/shekhar/projects/MachineLearning/dataset/exterior_classification/mansion_compressed_64/mary-ann-wooten-klu2iF-6IJM-unsplash.jpg\n",
      "/home/shekhar/projects/MachineLearning/dataset/exterior_classification/mansion_compressed_64/kit-sanchez-GRQMIqNw55k-unsplash.jpg\n",
      "/home/shekhar/projects/MachineLearning/dataset/exterior_classification/mansion_compressed_64/grant-durr-J8PCCowfquE-unsplash.jpg\n",
      "/home/shekhar/projects/MachineLearning/dataset/exterior_classification/mansion_compressed_64/nathana-reboucas-3qeadK304Fo-unsplash.jpg\n",
      "/home/shekhar/projects/MachineLearning/dataset/exterior_classification/mansion_compressed_64/nick-romanov-_hw4aUQ81ic-unsplash.jpg\n",
      "/home/shekhar/projects/MachineLearning/dataset/exterior_classification/mansion_compressed_64/ashish-allam-LVmwwo4I0As-unsplash.jpg\n",
      "/home/shekhar/projects/MachineLearning/dataset/exterior_classification/mansion_compressed_64/kevin-angelso-wWHo-DIArEU-unsplash.jpg\n",
      "/home/shekhar/projects/MachineLearning/dataset/exterior_classification/mansion_compressed_64/illia-cherednychenko-8wdhTMhTAc4-unsplash.jpg\n",
      "/home/shekhar/projects/MachineLearning/dataset/exterior_classification/mansion_compressed_64/luka-lojk-H_A_PTh8l_w-unsplash.jpg\n",
      "/home/shekhar/projects/MachineLearning/dataset/exterior_classification/mansion_compressed_64/walter-sturn--_folCc8Q8k-unsplash (1).jpg\n",
      "/home/shekhar/projects/MachineLearning/dataset/exterior_classification/mansion_compressed_64/blackccold-dCK2eYKFmBU-unsplash.jpg\n",
      "/home/shekhar/projects/MachineLearning/dataset/exterior_classification/mansion_compressed_64/michele-bitetto-cPmCdBbPZiw-unsplash.jpg\n",
      "/home/shekhar/projects/MachineLearning/dataset/exterior_classification/mansion_compressed_64/clark-van-der-beken-Azns3dVZEBQ-unsplash.jpg\n",
      "/home/shekhar/projects/MachineLearning/dataset/exterior_classification/mansion_compressed_64/niklas-siemens-7BdnFp3eelQ-unsplash.jpg\n",
      "/home/shekhar/projects/MachineLearning/dataset/exterior_classification/mansion_compressed_64/felix-wostmann-VHoEN8fH2EY-unsplash.jpg\n",
      "/home/shekhar/projects/MachineLearning/dataset/exterior_classification/mansion_compressed_64/arthur-osipyan-xXX3_lvjmG8-unsplash.jpg\n",
      "/home/shekhar/projects/MachineLearning/dataset/exterior_classification/mansion_compressed_64/andriyko-podilnyk-ZsFxBVh9WMA-unsplash.jpg\n",
      "/home/shekhar/projects/MachineLearning/dataset/exterior_classification/mansion_compressed_64/andrea-niosi-JBlFBwYPf9U-unsplash.jpg\n",
      "/home/shekhar/projects/MachineLearning/dataset/exterior_classification/mansion_compressed_64/timo-volz-Ha6n8MNgEbQ-unsplash.jpg\n",
      "/home/shekhar/projects/MachineLearning/dataset/exterior_classification/mansion_compressed_64/nomadic-julien-zbfJVugoFeM-unsplash.jpg\n",
      "/home/shekhar/projects/MachineLearning/dataset/exterior_classification/mansion_compressed_64/anil-kumar-shrestha-y700asvVxeM-unsplash.jpg\n",
      "/home/shekhar/projects/MachineLearning/dataset/exterior_classification/mansion_compressed_64/charlota-blunarova-f94IyYTzPU0-unsplash.jpg\n",
      "/home/shekhar/projects/MachineLearning/dataset/exterior_classification/mansion_compressed_64/marius-badstuber-wFHqJCuGB1g-unsplash.jpg\n",
      "/home/shekhar/projects/MachineLearning/dataset/exterior_classification/mansion_compressed_64/lomig-UT_hQBPAloQ-unsplash.jpg\n",
      "/home/shekhar/projects/MachineLearning/dataset/exterior_classification/mansion_compressed_64/luca-dugaro-Z9atS2VR5C0-unsplash.jpg\n",
      "/home/shekhar/projects/MachineLearning/dataset/exterior_classification/mansion_compressed_64/stephanie-leblanc-UWYPTISci4o-unsplash (1).jpg\n",
      "/home/shekhar/projects/MachineLearning/dataset/exterior_classification/mansion_compressed_64/viktoriia-krivorotova-zm9LRy1SFHY-unsplash.jpg\n",
      "/home/shekhar/projects/MachineLearning/dataset/exterior_classification/mansion_compressed_64/the-new-york-public-library-ILpxeQmtt4c-unsplash.jpg\n",
      "/home/shekhar/projects/MachineLearning/dataset/exterior_classification/mansion_compressed_64/nicola-nuttall-ks8cKjLWYK8-unsplash.jpg\n",
      "/home/shekhar/projects/MachineLearning/dataset/exterior_classification/mansion_compressed_64/fricky-tumoka-ZookT-o4yM0-unsplash.jpg\n",
      "/home/shekhar/projects/MachineLearning/dataset/exterior_classification/mansion_compressed_64/derick-mckinney-O4gahrN-FHY-unsplash.jpg\n",
      "/home/shekhar/projects/MachineLearning/dataset/exterior_classification/mansion_compressed_64/brandy-willetts-m7igKzoEecM-unsplash.jpg\n",
      "/home/shekhar/projects/MachineLearning/dataset/exterior_classification/mansion_compressed_64/david-sam-levinson-lqqUCTcQsXw-unsplash.jpg\n",
      "/home/shekhar/projects/MachineLearning/dataset/exterior_classification/mansion_compressed_64/matthieu-d-oultremont-NiHjyE1m9Kc-unsplash.jpg\n",
      "/home/shekhar/projects/MachineLearning/dataset/exterior_classification/mansion_compressed_64/sergo-karakozov-bqVF8mJ3odI-unsplash.jpg\n",
      "/home/shekhar/projects/MachineLearning/dataset/exterior_classification/mansion_compressed_64/jordan-m-lomibao-QlBG1hIi02g-unsplash.jpg\n",
      "/home/shekhar/projects/MachineLearning/dataset/exterior_classification/mansion_compressed_64/alejandro-morgado-947q6oz0D4M-unsplash.jpg\n",
      "/home/shekhar/projects/MachineLearning/dataset/exterior_classification/mansion_compressed_64/adrien-tutin-hCh_PHIhoLI-unsplash.jpg\n",
      "/home/shekhar/projects/MachineLearning/dataset/exterior_classification/mansion_compressed_64/park-troopers-To7GxHUMq6g-unsplash.jpg\n",
      "/home/shekhar/projects/MachineLearning/dataset/exterior_classification/mansion_compressed_64/arthur-v-b5zOkA3swe8-unsplash.jpg\n"
     ]
    },
    {
     "name": "stdout",
     "output_type": "stream",
     "text": [
      "/home/shekhar/projects/MachineLearning/dataset/exterior_classification/mansion_compressed_64/lobostudio-hamburg-emYo6xPIk5c-unsplash.jpg\n",
      "/home/shekhar/projects/MachineLearning/dataset/exterior_classification/mansion_compressed_64/adrien-delforge-DG0cRc4ADo4-unsplash.jpg\n",
      "/home/shekhar/projects/MachineLearning/dataset/exterior_classification/mansion_compressed_64/austin-kehmeier-bpFp9XetgDU-unsplash.jpg\n",
      "/home/shekhar/projects/MachineLearning/dataset/exterior_classification/mansion_compressed_64/pierre-chatel-innocenti-wiLzLXFyx6o-unsplash.jpg\n",
      "/home/shekhar/projects/MachineLearning/dataset/exterior_classification/mansion_compressed_64/peter-scholten-pyu-kGSjuPk-unsplash.jpg\n",
      "/home/shekhar/projects/MachineLearning/dataset/exterior_classification/mansion_compressed_64/fred-nassar-pnLIgujCigo-unsplash.jpg\n",
      "/home/shekhar/projects/MachineLearning/dataset/exterior_classification/mansion_compressed_64/debbie-fan-KVmKINrtLVk-unsplash.jpg\n",
      "/home/shekhar/projects/MachineLearning/dataset/exterior_classification/mansion_compressed_64/dope-masters-6Ueo4GRezeI-unsplash.jpg\n",
      "/home/shekhar/projects/MachineLearning/dataset/exterior_classification/mansion_compressed_64/ton-van-der-velden-QNaXbyySIw4-unsplash.jpg\n",
      "/home/shekhar/projects/MachineLearning/dataset/exterior_classification/mansion_compressed_64/falco-negenman-LjUBAtq6BcQ-unsplash.jpg\n",
      "/home/shekhar/projects/MachineLearning/dataset/exterior_classification/mansion_compressed_64/andrea-niosi-8y5ihDzu2LM-unsplash.jpg\n",
      "/home/shekhar/projects/MachineLearning/dataset/exterior_classification/mansion_compressed_64/daniel-prado-YobquS4IS8s-unsplash.jpg\n",
      "/home/shekhar/projects/MachineLearning/dataset/exterior_classification/mansion_compressed_64/irina-murza-PJMbzWAz26M-unsplash.jpg\n",
      "/home/shekhar/projects/MachineLearning/dataset/exterior_classification/mansion_compressed_64/michael-green-bI7AU1C9UWo-unsplash.jpg\n",
      "/home/shekhar/projects/MachineLearning/dataset/exterior_classification/mansion_compressed_64/cristiano-caligaris-SjhF0GMI0zY-unsplash.jpg\n",
      "/home/shekhar/projects/MachineLearning/dataset/exterior_classification/mansion_compressed_64/vita-vilcina-KtOid0FLjqU-unsplash.jpg\n",
      "/home/shekhar/projects/MachineLearning/dataset/exterior_classification/mansion_compressed_64/stephanie-leblanc-v5qQqY37wMA-unsplash.jpg\n",
      "/home/shekhar/projects/MachineLearning/dataset/exterior_classification/mansion_compressed_64/alexander-awerin-TvOeGE-r77g-unsplash.jpg\n",
      "/home/shekhar/projects/MachineLearning/dataset/exterior_classification/mansion_compressed_64/max-ostwalt-7QuBBME18i4-unsplash.jpg\n",
      "/home/shekhar/projects/MachineLearning/dataset/exterior_classification/mansion_compressed_64/dmitry-goykolov-q0AtbGIOb5k-unsplash.jpg\n",
      "/home/shekhar/projects/MachineLearning/dataset/exterior_classification/mansion_compressed_64/amy-leigh-barnard-cV9r5P-OkTI-unsplash.jpg\n",
      "/home/shekhar/projects/MachineLearning/dataset/exterior_classification/mansion_compressed_64/mike-stezycki-ouN1xz-lcjk-unsplash.jpg\n",
      "/home/shekhar/projects/MachineLearning/dataset/exterior_classification/mansion_compressed_64/radek--qv18VqKuDM-unsplash.jpg\n",
      "/home/shekhar/projects/MachineLearning/dataset/exterior_classification/mansion_compressed_64/leyy-m-Th2MisvdKr0-unsplash.jpg\n",
      "/home/shekhar/projects/MachineLearning/dataset/exterior_classification/mansion_compressed_64/annie-spratt-AmYBALgac3o-unsplash.jpg\n",
      "/home/shekhar/projects/MachineLearning/dataset/exterior_classification/mansion_compressed_64/vivek-vk-oeYFlvsNAbE-unsplash.jpg\n",
      "/home/shekhar/projects/MachineLearning/dataset/exterior_classification/mansion_compressed_64/christian-widell-A_wZpXGuWy0-unsplash.jpg\n",
      "/home/shekhar/projects/MachineLearning/dataset/exterior_classification/mansion_compressed_64/ibrahim-rifath-gA8cLq4cokI-unsplash.jpg\n",
      "/home/shekhar/projects/MachineLearning/dataset/exterior_classification/mansion_compressed_64/ehud-neuhaus-h3Oj7xroTyI-unsplash.jpg\n",
      "/home/shekhar/projects/MachineLearning/dataset/exterior_classification/mansion_compressed_64/ashim-d-silva-zL_urJ_3bDM-unsplash.jpg\n",
      "/home/shekhar/projects/MachineLearning/dataset/exterior_classification/mansion_compressed_64/juan-gomez-kkqo5F7cepk-unsplash.jpg\n",
      "/home/shekhar/projects/MachineLearning/dataset/exterior_classification/mansion_compressed_64/jordan-m-lomibao-BBN8VF4wPpc-unsplash.jpg\n",
      "/home/shekhar/projects/MachineLearning/dataset/exterior_classification/mansion_compressed_64/james-bold-UxCS2kVhZTc-unsplash.jpg\n",
      "/home/shekhar/projects/MachineLearning/dataset/exterior_classification/mansion_compressed_64/annie-spratt-rLOmY2OcW5A-unsplash.jpg\n",
      "/home/shekhar/projects/MachineLearning/dataset/exterior_classification/mansion_compressed_64/ton-van-der-velden-UzHC70fgtTI-unsplash (1).jpg\n",
      "/home/shekhar/projects/MachineLearning/dataset/exterior_classification/mansion_compressed_64/dat-nguyen-Ss7O8yS5SQk-unsplash.jpg\n",
      "/home/shekhar/projects/MachineLearning/dataset/exterior_classification/mansion_compressed_64/the-new-york-public-library-KbAU9yGv7tQ-unsplash.jpg\n",
      "/home/shekhar/projects/MachineLearning/dataset/exterior_classification/mansion_compressed_64/j-remus-TiZLVUQXqi8-unsplash.jpg\n",
      "/home/shekhar/projects/MachineLearning/dataset/exterior_classification/mansion_compressed_64/ton-van-der-velden-UzHC70fgtTI-unsplash.jpg\n",
      "/home/shekhar/projects/MachineLearning/dataset/exterior_classification/mansion_compressed_64/victor-malyushev-TI_yzOz6yXE-unsplash.jpg\n",
      "/home/shekhar/projects/MachineLearning/dataset/exterior_classification/mansion_compressed_64/alessio-rinella-4rJ9xoqOea8-unsplash.jpg\n",
      "/home/shekhar/projects/MachineLearning/dataset/exterior_classification/mansion_compressed_64/jonne-makikyro-T1k4uxdublI-unsplash.jpg\n",
      "/home/shekhar/projects/MachineLearning/dataset/exterior_classification/mansion_compressed_64/alejandro-cartagena-B64B6-kAWlw-unsplash.jpg\n",
      "/home/shekhar/projects/MachineLearning/dataset/exterior_classification/mansion_compressed_64/dan-novac-KFjZByheKT4-unsplash.jpg\n",
      "/home/shekhar/projects/MachineLearning/dataset/exterior_classification/mansion_compressed_64/nikola-johnny-mirkovic-rKCVHJnVyFE-unsplash.jpg\n",
      "/home/shekhar/projects/MachineLearning/dataset/exterior_classification/mansion_compressed_64/anthony-delanoix-Tye57KzVWSM-unsplash.jpg\n",
      "/home/shekhar/projects/MachineLearning/dataset/exterior_classification/mansion_compressed_64/rachel-IM8jwFM5K44-unsplash.jpg\n",
      "/home/shekhar/projects/MachineLearning/dataset/exterior_classification/mansion_compressed_64/dusan-smetana-db-EVxpVQko-unsplash.jpg\n",
      "/home/shekhar/projects/MachineLearning/dataset/exterior_classification/mansion_compressed_64/galal-garwan-wwt0UVL2lUc-unsplash.jpg\n",
      "/home/shekhar/projects/MachineLearning/dataset/exterior_classification/mansion_compressed_64/ellena-mcguinness-BtaiYO5Syk4-unsplash.jpg\n",
      "/home/shekhar/projects/MachineLearning/dataset/exterior_classification/mansion_compressed_64/trent-szmolnik-YiolLgbVUeo-unsplash.jpg\n",
      "/home/shekhar/projects/MachineLearning/dataset/exterior_classification/mansion_compressed_64/elijah-g-Mh9EwPj-6so-unsplash (1).jpg\n",
      "/home/shekhar/projects/MachineLearning/dataset/exterior_classification/mansion_compressed_64/amy-gatenby-gwi3wMKC3kE-unsplash.jpg\n",
      "/home/shekhar/projects/MachineLearning/dataset/exterior_classification/mansion_compressed_64/chris-unger-8dPSJCNl804-unsplash.jpg\n",
      "/home/shekhar/projects/MachineLearning/dataset/exterior_classification/mansion_compressed_64/drew-dau-xI3fdzznkWg-unsplash.jpg\n",
      "/home/shekhar/projects/MachineLearning/dataset/exterior_classification/mansion_compressed_64/pierre-chatel-innocenti-CavUpcTN9uM-unsplash.jpg\n",
      "/home/shekhar/projects/MachineLearning/dataset/exterior_classification/mansion_compressed_64/georgia-de-lotz-g6EbzPPuDUM-unsplash.jpg\n",
      "/home/shekhar/projects/MachineLearning/dataset/exterior_classification/mansion_compressed_64/zheng-xin-dOF2nG184Ws-unsplash.jpg\n",
      "/home/shekhar/projects/MachineLearning/dataset/exterior_classification/mansion_compressed_64/faisal-mehmood-tI_QZ5AFytc-unsplash.jpg\n",
      "/home/shekhar/projects/MachineLearning/dataset/exterior_classification/mansion_compressed_64/eriksson-luo-mX06fUx22SA-unsplash.jpg\n",
      "/home/shekhar/projects/MachineLearning/dataset/exterior_classification/mansion_compressed_64/reza-milani-piqCKADYnZ4-unsplash.jpg\n",
      "/home/shekhar/projects/MachineLearning/dataset/exterior_classification/mansion_compressed_64/hoang-sa-N58fk20D--I-unsplash.jpg\n"
     ]
    },
    {
     "name": "stdout",
     "output_type": "stream",
     "text": [
      "/home/shekhar/projects/MachineLearning/dataset/exterior_classification/mansion_compressed_64/venkat-sudheer-reddy-OCMbHfD2I48-unsplash.jpg\n",
      "/home/shekhar/projects/MachineLearning/dataset/exterior_classification/mansion_compressed_64/mike-marrah-ui6PLRNvsR8-unsplash.jpg\n",
      "/home/shekhar/projects/MachineLearning/dataset/exterior_classification/mansion_compressed_64/yue-su-FrNri_2KMTc-unsplash.jpg\n",
      "/home/shekhar/projects/MachineLearning/dataset/exterior_classification/mansion_compressed_64/sanasar-tovmasyan-ZZMuHTZHvOg-unsplash.jpg\n",
      "/home/shekhar/projects/MachineLearning/dataset/exterior_classification/mansion_compressed_64/canalhermi-2zZ3htgbX5k-unsplash.jpg\n",
      "/home/shekhar/projects/MachineLearning/dataset/exterior_classification/mansion_compressed_64/raphael-panico-BbEC-ggEKtU-unsplash.jpg\n",
      "/home/shekhar/projects/MachineLearning/dataset/exterior_classification/mansion_compressed_64/fabian-wiktor-MBKFuFqlMwo-unsplash.jpg\n",
      "/home/shekhar/projects/MachineLearning/dataset/exterior_classification/mansion_compressed_64/gunnar-ridderstrom-OxE9zkMqchY-unsplash.jpg\n",
      "/home/shekhar/projects/MachineLearning/dataset/exterior_classification/mansion_compressed_64/elijah-g-Mh9EwPj-6so-unsplash.jpg\n",
      "/home/shekhar/projects/MachineLearning/dataset/exterior_classification/mansion_compressed_64/daniel-barnes-PyFzygP2eNg-unsplash.jpg\n",
      "/home/shekhar/projects/MachineLearning/dataset/exterior_classification/mansion_compressed_64/robert-bye-rLYILl2T6Ps-unsplash.jpg\n",
      "/home/shekhar/projects/MachineLearning/dataset/exterior_classification/mansion_compressed_64/arkadiy-Kyo-fm-IRUE-unsplash.jpg\n",
      "/home/shekhar/projects/MachineLearning/dataset/exterior_classification/mansion_compressed_64/leo-foureaux-RT2jap_lK-U-unsplash.jpg\n",
      "/home/shekhar/projects/MachineLearning/dataset/exterior_classification/mansion_compressed_64/francois-genon-8x1w8xRNYpw-unsplash.jpg\n",
      "/home/shekhar/projects/MachineLearning/dataset/exterior_classification/mansion_compressed_64/diogo-nunes-Z1EEcpLoslY-unsplash.jpg\n",
      "/home/shekhar/projects/MachineLearning/dataset/exterior_classification/mansion_compressed_64/jean-carlo-emer-b1lqOxni21g-unsplash.jpg\n",
      "/home/shekhar/projects/MachineLearning/dataset/exterior_classification/mansion_compressed_64/stephen-walker-bbce31pJY-w-unsplash.jpg\n",
      "/home/shekhar/projects/MachineLearning/dataset/exterior_classification/mansion_compressed_64/alex-folguera-k0XzKevz6_g-unsplash.jpg\n",
      "/home/shekhar/projects/MachineLearning/dataset/exterior_classification/mansion_compressed_64/junshen-zeng-4-0ylqI3jL8-unsplash.jpg\n",
      "/home/shekhar/projects/MachineLearning/dataset/exterior_classification/mansion_compressed_64/vadim-korolchuk-yjvmfiUpLlA-unsplash.jpg\n",
      "/home/shekhar/projects/MachineLearning/dataset/exterior_classification/mansion_compressed_64/ethan-kent-Ado2ElXBEMA-unsplash.jpg\n",
      "/home/shekhar/projects/MachineLearning/dataset/exterior_classification/mansion_compressed_64/annie-spratt-oxuxlyvEs9A-unsplash (1).jpg\n",
      "/home/shekhar/projects/MachineLearning/dataset/exterior_classification/mansion_compressed_64/yanny-mishchuk-qPDyWI5JFcI-unsplash.jpg\n",
      "/home/shekhar/projects/MachineLearning/dataset/exterior_classification/mansion_compressed_64/sam-mathews-sYxPnaE_--Q-unsplash.jpg\n",
      "/home/shekhar/projects/MachineLearning/dataset/exterior_classification/mansion_compressed_64/alexandre-brondino-2g4d38ASDHo-unsplash.jpg\n",
      "/home/shekhar/projects/MachineLearning/dataset/exterior_classification/mansion_compressed_64/francesco-bianco-R8bKpIkgG28-unsplash.jpg\n",
      "/home/shekhar/projects/MachineLearning/dataset/exterior_classification/mansion_compressed_64/kevin-ngo-_dcBEkOkyQE-unsplash.jpg\n"
     ]
    }
   ],
   "source": [
    "import os\n",
    "output_dir = \"/home/shekhar/projects/MachineLearning/dataset/exterior_classification/mansion_compressed_64\"\n",
    "\n",
    "for path in p:\n",
    "    image =Image.open(path)\n",
    "    output_filename=os.path.join(output_dir,os.path.basename(path))\n",
    "    new_dim = (64,64)\n",
    "    print(output_filename)\n",
    "    resize_image(image,new_dim,90,output_filename)"
   ]
  },
  {
   "cell_type": "code",
   "execution_count": null,
   "metadata": {},
   "outputs": [],
   "source": []
  },
  {
   "cell_type": "code",
   "execution_count": null,
   "metadata": {},
   "outputs": [],
   "source": []
  }
 ],
 "metadata": {
  "kernelspec": {
   "display_name": "Python 3",
   "language": "python",
   "name": "python3"
  },
  "language_info": {
   "codemirror_mode": {
    "name": "ipython",
    "version": 3
   },
   "file_extension": ".py",
   "mimetype": "text/x-python",
   "name": "python",
   "nbconvert_exporter": "python",
   "pygments_lexer": "ipython3",
   "version": "3.7.4"
  }
 },
 "nbformat": 4,
 "nbformat_minor": 2
}
